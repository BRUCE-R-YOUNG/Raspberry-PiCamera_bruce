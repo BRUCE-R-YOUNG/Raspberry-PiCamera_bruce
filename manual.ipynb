{
 "cells": [
  {
   "cell_type": "code",
   "execution_count": null,
   "metadata": {},
   "outputs": [],
   "source": [
    "sudo apt-get update\n",
    "sudo apt-get install libgtk2.0-dev libgtk-3-dev pkg-config\n",
    "pip3 install opencv-python adafruit-circuitpython-pca9685\n"
   ]
  },
  {
   "cell_type": "code",
   "execution_count": null,
   "metadata": {},
   "outputs": [],
   "source": [
    "pip install torch torchvision\n",
    "pip install ultralytics\n"
   ]
  }
 ],
 "metadata": {
  "language_info": {
   "name": "python"
  }
 },
 "nbformat": 4,
 "nbformat_minor": 2
}
